{
 "cells": [
  {
   "cell_type": "markdown",
   "metadata": {},
   "source": [
    "# Depocenter migration"
   ]
  },
  {
   "cell_type": "code",
   "execution_count": null,
   "metadata": {},
   "outputs": [],
   "source": [
    "import numpy as np\n",
    "import matplotlib as mpl\n",
    "import matplotlib.mlab as ml\n",
    "import matplotlib.pyplot as plt\n",
    "import seaborn as sns; sns.set()\n",
    "import scipy.ndimage.filters as filters\n",
    "from scipy.interpolate import RectBivariateSpline\n",
    "from scipy.ndimage.filters import gaussian_filter\n",
    "\n",
    "# display plots in SVG format\n",
    "%config InlineBackend.figure_format = 'svg'\n",
    "%matplotlib inline"
   ]
  },
  {
   "cell_type": "code",
   "execution_count": null,
   "metadata": {
    "collapsed": true
   },
   "outputs": [],
   "source": [
    "def loadTIN(folder, timestep):\n",
    "    #\n",
    "    for i in range(0, 1):\n",
    "        df = h5py.File('%s/tin.time%s.p%s.hdf5'%(folder, timestep, i), 'r')\n",
    "        coord = np.array((df['/coords']))\n",
    "        EroDep = np.array((df['/cumdiff']))\n",
    "        if i == 0:\n",
    "            x1, y1, z1 = np.hsplit(coord, 3)\n",
    "            erodep = EroDep\n",
    "\n",
    "    pointx = x1\n",
    "    pointy = y1\n",
    "    pointz = z1\n",
    "\n",
    "    dx = x1[1]-x1[0]\n",
    "\n",
    "    nx = int((pointx.max() - pointx.min())/dx + 1)\n",
    "    ny = int((pointy.max() - pointy.min())/dx + 1)\n",
    "    xi = np.linspace(pointx.min(), pointx.max(), nx)\n",
    "    yi = np.linspace(pointy.min(), pointy.max(), ny)\n",
    "    # Create the regular mesh\n",
    "    xi, yi = np.meshgrid(xi, yi)\n",
    "    erodep = griddata((pointx[:,0],pointy[:,0]),erodep[:,0],(xi,yi),method='nearest')\n",
    "\n",
    "    return erodep"
   ]
  },
  {
   "cell_type": "code",
   "execution_count": null,
   "metadata": {
    "collapsed": true
   },
   "outputs": [],
   "source": [
    "nbout = 31\n",
    "nstep = 10"
   ]
  },
  {
   "cell_type": "code",
   "execution_count": null,
   "metadata": {
    "collapsed": true
   },
   "outputs": [],
   "source": [
    "folder = '/workspace/volume/GRL/rf3_sl3c_ts1_dtn/h5/'\n",
    "EroDep_all = {}\n",
    "for i in range(0,nbout = 31):\n",
    "    EroDep_all[i] = loadTIN(folder, i*nstep)"
   ]
  },
  {
   "cell_type": "markdown",
   "metadata": {},
   "source": [
    "## Calculate sedimentation rate"
   ]
  },
  {
   "cell_type": "code",
   "execution_count": null,
   "metadata": {
    "collapsed": true
   },
   "outputs": [],
   "source": [
    "cumDiff = []\n",
    "for i in range(nbout):\n",
    "    for j in range(0,350):\n",
    "        cumDiff.append(strat_all[i].erodep[350][j])\n",
    "# \n",
    "CumDiff = np.reshape(cumDiff, (nbout, 350))\n",
    "SedRate = np.zeros((nbout-1,350))\n",
    "for i in range(nbout-1):\n",
    "    for j in range(0,350):\n",
    "        SedRate[i][j] = CumDiff[i+1][j]-CumDiff[i][j]"
   ]
  },
  {
   "cell_type": "code",
   "execution_count": null,
   "metadata": {
    "collapsed": true
   },
   "outputs": [],
   "source": [
    "# Find the depocenter through time\n",
    "# Depocenter is defined as the position with maximum deposition rate\n",
    "depocenter = []\n",
    "for i in range(nbout-1):\n",
    "    depocenter.append(SedRate[i].argmax())"
   ]
  },
  {
   "cell_type": "code",
   "execution_count": null,
   "metadata": {},
   "outputs": [],
   "source": [
    "mpl.rc(\"figure\", figsize=(6, 3))\n",
    "ax = sns.heatmap(SedRate[0:21], vmin=-20, vmax=20, cmap=\"bwr\", xticklabels=50, yticklabels=4, linewidth=0, cbar=False)\n",
    "# ax.cax.set_visible(False)\n",
    "ax.set_position([0.12,0.2, 0.81, 0.74])\n",
    "time=np.linspace(0,30,31)\n",
    "plt.plot(depocenter[0:21],time[0:21]+0.5,'o', markersize=4, color='yellow')\n",
    "ax.set_xlim([0,300])\n",
    "ax.set_ylim([0,20])\n",
    "plt.ylabel('Time (Myr)',fontsize=12)\n",
    "plt.xlabel('Distance (km)',fontsize=12)\n",
    "# \n",
    "# ax.figure.savefig(\"/workspace/volume/GRL/figures/depocenter_sedrate.png\", dpi=400)"
   ]
  },
  {
   "cell_type": "code",
   "execution_count": null,
   "metadata": {
    "collapsed": true
   },
   "outputs": [],
   "source": []
  }
 ],
 "metadata": {
  "kernelspec": {
   "display_name": "Python 2",
   "language": "python",
   "name": "python2"
  },
  "language_info": {
   "codemirror_mode": {
    "name": "ipython",
    "version": 2
   },
   "file_extension": ".py",
   "mimetype": "text/x-python",
   "name": "python",
   "nbconvert_exporter": "python",
   "pygments_lexer": "ipython2",
   "version": "2.7.6"
  }
 },
 "nbformat": 4,
 "nbformat_minor": 2
}
