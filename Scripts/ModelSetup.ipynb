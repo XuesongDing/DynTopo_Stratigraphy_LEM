{
 "cells": [
  {
   "cell_type": "code",
   "execution_count": null,
   "metadata": {},
   "outputs": [],
   "source": [
    "import pybadlands_companion.toolSea as tools\n",
    "\n",
    "# display plots in SVG format\n",
    "%config InlineBackend.figure_format = 'svg'\n",
    "%matplotlib inline"
   ]
  },
  {
   "cell_type": "markdown",
   "metadata": {},
   "source": [
    "# Building sea-level curve\n",
    "\n",
    "The file (**CSV format**) provides for each line the following information:\n",
    "* Time in years,\n",
    "* Sea-level elevation for the considered time in meters.\n",
    "\n",
    "In addition, the defined fluctuation times should be set in **increasing order starting from the oldest time**.\n",
    "\n",
    "We create a sea level curve from scratch. For more details please refer to [/workspace/companion/seaLevel.ipynb](/workspace/companion/seaLevel.ipynb)."
   ]
  },
  {
   "cell_type": "code",
   "execution_count": null,
   "metadata": {},
   "outputs": [],
   "source": [
    "sea = tools.toolSea()\n",
    "sea.buildCurve(timeExt = [0.,30000000.], timeStep = 100000., seaExt = [-25.,-25.], \n",
    "                   ampExt = [-75.,-75.], periodExt = [10000000.,10000000.])\n",
    "# Visualize\n",
    "sea.plotCurves(fsize=(4,5), figName = 'Sea level')\n",
    "# Export the sea-level file  to the data folder\n",
    "sea.exportCurve(nameCSV='data/sealevel')"
   ]
  },
  {
   "cell_type": "markdown",
   "metadata": {},
   "source": [
    "# Building tectonic files\n",
    "\n",
    "Here, the tectonics (vertical displacements) include: \n",
    "* thermal subsidence on the continental margin; \n",
    "* waves of dynamic topogrpahy."
   ]
  },
  {
   "cell_type": "code",
   "execution_count": null,
   "metadata": {
    "collapsed": true
   },
   "outputs": [],
   "source": [
    "# Parameter of model geometry\n",
    "# Number of nodes along X-Y axis\n",
    "nx = 701  \n",
    "ny = 701  \n",
    "xr = np.linspace(0., 700000., nx)\n",
    "yr = np.linspace(0., 700000., ny)\n",
    "# Space resolution along X-Y axis\n",
    "dx = xr[1] - xr[0]  \n",
    "dy = yr[1] - yr[0]  \n",
    "# \n",
    "endTime = 20000000 #  Dynamic topogrpahy passes the domain in 20 My\n",
    "dispTimeStep = 20000\n",
    "stepNb = int(endTime/dispTimeStep)"
   ]
  },
  {
   "cell_type": "markdown",
   "metadata": {},
   "source": [
    "## Thermal subsidence"
   ]
  },
  {
   "cell_type": "code",
   "execution_count": null,
   "metadata": {
    "collapsed": true
   },
   "outputs": [],
   "source": [
    "E0 = 3200.0  # m\n",
    "tao = 62.8e6  # yr\n",
    "dist = np.arange(0,150.0+1.0,1.0)  # continental margin\n",
    "beta = 1.0/100.0*dist+1.0\n",
    "r = (beta/np.pi)*np.sin(np.pi/beta)\n",
    "subsidence_beta = E0*r*np.exp(0/tao) - E0*r*np.exp(-endTime/tao)\n",
    "subsidence_beta = subsidence_beta*2/3\n",
    "disp_sub = -subsidence_beta/stepNb  # rate of subsidence"
   ]
  },
  {
   "cell_type": "markdown",
   "metadata": {},
   "source": [
    "## Dynamic topography"
   ]
  },
  {
   "cell_type": "code",
   "execution_count": null,
   "metadata": {
    "collapsed": true
   },
   "outputs": [],
   "source": [
    "# Parameter of dynamic topography (DT)\n",
    "v = 0.05  # velocity of DT (m/yr)\n",
    "l = 300000.  # wavelength (m)\n",
    "zo = 100.  # amplitude (m)\n",
    "# \n",
    "xr_DT = np.linspace(-300000., 300000., 301)\n",
    "l1 = 200000\n",
    "DT1 = zo*np.exp(-np.pi*(xr_DT)*(xr_DT)/l1/l1)"
   ]
  },
  {
   "cell_type": "markdown",
   "metadata": {},
   "source": [
    "## Export the tect files"
   ]
  },
  {
   "cell_type": "code",
   "execution_count": null,
   "metadata": {
    "collapsed": true
   },
   "outputs": [],
   "source": [
    "z = np.zeros((ny,nx))\n",
    "for k in range(0,stepNb):\n",
    "    f = open(\"disp\"+str(k)+\".csv\", \"w\")\n",
    "    t = (k+1)*dispTimeStep\n",
    "\n",
    "    disp = np.zeros((ny,nx))\n",
    "    zn = np.zeros((ny,nx))\n",
    "    disp = np.zeros((ny,nx))\n",
    "    disp1 = np.ones((nx,ny)) * disp_sub[150]\n",
    "    beta = np.zeros((nx,ny))\n",
    "    r = np.zeros((nx,ny))\n",
    "\n",
    "    posit = int(t*v/dx)\n",
    "    if (posit<=int(l/dx)):\n",
    "        for j in range(ny):\n",
    "            for i in range(0,posit,1):\n",
    "                zn[j,i] = DT1[(300-posit+1)+i]\n",
    "                disp[j,i] = zn[j,i] - z[j,i]\n",
    "    elif (posit<=int(nx)):\n",
    "        posit_pass = posit - int(l/dx)\n",
    "        for j in range(ny):\n",
    "            for i in range(posit_pass,posit,1):\n",
    "                zn[j,i] = DT1[i-posit_pass]\n",
    "                disp[j,i] = zn[j,i] - z[j,i]\n",
    "    else:\n",
    "        posit_pass = posit - int(l/dx)\n",
    "        for j in range(ny):\n",
    "            for i in range(posit_pass,nx,1):\n",
    "                zn[j,i] = DT1[i-posit_pass]\n",
    "                disp[j,i] = zn[j,i] - z[j,i]\n",
    "    z = np.copy(zn)\n",
    "\n",
    "    for j in range(0,ny):\n",
    "        for i in range(0,nx):\n",
    "            x = (i-350)*dx\n",
    "            y = (j-350)*dx\n",
    "            if (x*x + y*y <= r2*r2):\n",
    "                disp1[j][i] = 0.\n",
    "            elif (x*x + y*y <= r3*r3):\n",
    "                beta[j][i] = np.sqrt(x*x + y*y)/100000.0 - 1.0\n",
    "                r[j][i] = (beta[j][i]/np.pi)*np.sin(np.pi/beta[j][i])\n",
    "                disp1[j][i] = (-E0*r[j][i]*np.exp(0/tao) + E0*r[j][i]*np.exp(-endTime/tao))*2/3/stepNb\n",
    "            f.write( str(disp[j][i]+disp1[j][i]) + \"\\n\"  )\n",
    "    f.close()"
   ]
  },
  {
   "cell_type": "code",
   "execution_count": null,
   "metadata": {
    "collapsed": true
   },
   "outputs": [],
   "source": [
    "# Our model runs to 30 Myr. \n",
    "# Since dynamic topogrpahy passes the domain in the first 20 Myr. \n",
    "# Therefore, from 20-30 Myr, only thermal subsidence is forced on the continental margin.\n",
    "\n",
    "# Export the thermal subsidence for the last 10 Myr.\n",
    "subsid_last = (-E0*r*np.exp(-20e6/tao)+E0*r*np.exp(-30e6/tao))*2/3\n",
    "f = open(str(stepNb)+\".csv\", \"w\")\n",
    "disp1 = np.ones((nx,ny)) * subsid_last[150]\n",
    "beta = np.zeros((nx,ny))\n",
    "r = np.zeros((nx,ny))\n",
    "# \n",
    "for j in range(0,ny):\n",
    "    for i in range(0,nx):\n",
    "        x = (i-350)*dx\n",
    "        y = (j-350)*dx\n",
    "        if (x*x + y*y <= r2*r2):\n",
    "            disp1[j][i] = 0.\n",
    "        elif (x*x + y*y <= r3*r3):\n",
    "            beta[j][i] = np.sqrt(x*x + y*y)/100000.0 - 1.0\n",
    "            r[j][i] = (beta[j][i]/np.pi)*np.sin(np.pi/beta[j][i])\n",
    "            disp1[j][i] = (-E0*r[j][i]*np.exp(-20e6/tao) + E0*r[j][i]*np.exp(-30e6/tao))*2/3\n",
    "        f.write( str(disp1[j][i]) + \"\\n\"  )\n",
    "f.close()"
   ]
  },
  {
   "cell_type": "code",
   "execution_count": null,
   "metadata": {
    "collapsed": true
   },
   "outputs": [],
   "source": [
    "# Write tectonic section of the XML input file\n",
    "for k in range(0,stepNb):\n",
    "    print(\"<disp>\")\n",
    "    print(\"   <dstart>\"+str(k*dispTimeStep)+\"</dstart>\")\n",
    "    print(\"   <dend>\"+str((k+1)*dispTimeStep)+\"</dend>\")\n",
    "    print(\"   <dfile>data/disp\"+str(k)+\".csv</dfile>\")\n",
    "    print(\"</disp>\")"
   ]
  }
 ],
 "metadata": {
  "kernelspec": {
   "display_name": "Python 2",
   "language": "python",
   "name": "python2"
  },
  "language_info": {
   "codemirror_mode": {
    "name": "ipython",
    "version": 2
   },
   "file_extension": ".py",
   "mimetype": "text/x-python",
   "name": "python",
   "nbconvert_exporter": "python",
   "pygments_lexer": "ipython2",
   "version": "2.7.6"
  }
 },
 "nbformat": 4,
 "nbformat_minor": 2
}
