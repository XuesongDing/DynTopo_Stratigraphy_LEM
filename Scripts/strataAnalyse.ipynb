{
 "cells": [
  {
   "cell_type": "markdown",
   "metadata": {},
   "source": [
    "# Analyse pyBadlands stratigraphic output\n",
    "\n",
    "If the stratigraphic structure is turned on in the XmL input file, **pyBadlands** produces sedimentary layers Hdf5 files. The stratigraphic layers are defined on a regularly spaced grid and a layer is recorded at each layer time interval given by the user.\n",
    "\n",
    "Here we show how we can visualise quickly the structure of the stratigraphic layer in an IPython notebook."
   ]
  },
  {
   "cell_type": "code",
   "execution_count": null,
   "metadata": {},
   "outputs": [],
   "source": [
    "import numpy as np\n",
    "import matplotlib.mlab as ml\n",
    "import matplotlib.pyplot as plt\n",
    "import scipy.ndimage.filters as filters\n",
    "from scipy.interpolate import RectBivariateSpline\n",
    "from scipy.ndimage.filters import gaussian_filter\n",
    "\n",
    "import stratalAnalyse as strata\n",
    "\n",
    "# display plots in SVG format\n",
    "%config InlineBackend.figure_format = 'svg'\n",
    "%matplotlib inline"
   ]
  },
  {
   "cell_type": "markdown",
   "metadata": {},
   "source": [
    "# Loading stratigraphic file\n",
    "\n",
    "First we need to load the stratigraphic file. The files are located in the **h5/** folder in the simulation main output folder and are named using the following convention:\n",
    "- `sed.time`T`.p`X`.hdf5`\n",
    "\n",
    "with T the display time index and X the number of the partition (used in the parallel version). In cases where you ran your simulation in parallel you will also need to give the number of CPUs used (_cpus_).\n",
    "\n",
    "To load a file you will need to give the folder name and the number of processors used in your simulation.\n",
    "\n",
    "For more information regarding the function uncomment the following line."
   ]
  },
  {
   "cell_type": "code",
   "execution_count": null,
   "metadata": {
    "collapsed": true
   },
   "outputs": [],
   "source": [
    "# help(strata.stratalSection.__init__)"
   ]
  },
  {
   "cell_type": "code",
   "execution_count": null,
   "metadata": {
    "collapsed": true
   },
   "outputs": [],
   "source": [
    "folder = '/workspace/volume/GRL/rf3_sl0_ts1_dtn100/h5/'\n",
    "strat = strata.stratalSection(folder)"
   ]
  },
  {
   "cell_type": "markdown",
   "metadata": {},
   "source": [
    "Then we need to load a particular output time interval (this is the T parameter in the hdf5 file name convention).\n",
    "\n",
    "**Note**\n",
    "\n",
    "This number is not always the number of sedimentary layers for this particular time step as you could have chosen in the input file to have more than 1 sedimentary layer recorded by output interval!"
   ]
  },
  {
   "cell_type": "code",
   "execution_count": null,
   "metadata": {
    "collapsed": true
   },
   "outputs": [],
   "source": [
    "# help(strat.loadStratigraphy)"
   ]
  },
  {
   "cell_type": "code",
   "execution_count": null,
   "metadata": {
    "collapsed": true
   },
   "outputs": [],
   "source": [
    "strat.loadStratigraphy(300) "
   ]
  },
  {
   "cell_type": "markdown",
   "metadata": {},
   "source": [
    "# Building a cross-section\n",
    "\n",
    "We then slice the stratigraphic mesh to visualise the sedimentary architecture along a given cross-section.\n",
    "\n",
    "To create the cross-section you will need to provide:\n",
    "+ the position of the segment in the simulation space _(xo,yo)_ and _(xm,ym)_, \n",
    "+ a gaussian filter value for smoothing (_gfilt_ a value of 0 can be used for non-smoothing) and \n",
    "+ the resolution of the cross-section (based on a number of points: _nbpts_). "
   ]
  },
  {
   "cell_type": "code",
   "execution_count": null,
   "metadata": {
    "collapsed": true
   },
   "outputs": [],
   "source": [
    "# Build a cross-section along X axis\n",
    "x1 = 350000.\n",
    "x2 = 700000.\n",
    "y1 = 350000\n",
    "y2 = 350000\n",
    "\n",
    "# Interpolation parameters\n",
    "nbpts = 351\n",
    "gfilt = 1"
   ]
  },
  {
   "cell_type": "code",
   "execution_count": null,
   "metadata": {
    "collapsed": true
   },
   "outputs": [],
   "source": [
    "# help(strat.buildSection)"
   ]
  },
  {
   "cell_type": "code",
   "execution_count": null,
   "metadata": {
    "collapsed": true
   },
   "outputs": [],
   "source": [
    "strat.buildSection(xo = x1, yo = y1, xm = x2, ym = y2, pts = nbpts, gfilter = gfilt)"
   ]
  },
  {
   "cell_type": "markdown",
   "metadata": {},
   "source": [
    "# Stratal stacking pattern\n",
    "\n",
    "We use **plotly** to visualise the vertival cross-section of stratal stacking apttern."
   ]
  },
  {
   "cell_type": "code",
   "execution_count": null,
   "metadata": {
    "collapsed": true
   },
   "outputs": [],
   "source": [
    "#help(strata.viewSection)"
   ]
  },
  {
   "cell_type": "code",
   "execution_count": null,
   "metadata": {
    "collapsed": true
   },
   "outputs": [],
   "source": [
    "strata.viewSection(width = 800, height = 500, cs = strat, \n",
    "            dnlay = 2, rangeX=[220000, 350000], rangeY=[-1000,0],\n",
    "            linesize = 0.5, title='Stratal stacking pattern coloured by time')"
   ]
  },
  {
   "cell_type": "markdown",
   "metadata": {},
   "source": [
    "## Stratal stacking pattern coloured by depositional environments\n",
    "\n",
    "We define paleo-depositional environments (depositional facies) based on deposition depth. For example,\n",
    "\n",
    "- **alluvial plain**:   30m above sea level\n",
    "- **shoreface**:        0 - 30m below sea level\n",
    "- **shallow marine**:   30 - 100m below sea level\n",
    "- **slope**:            100 - 300m below sea level\n",
    "- **deep marine**:      300 - 700m below sea level\n",
    "- **ocean basin**:      > 700m below sea level\n",
    "\n",
    "To define the paleo-depositional environments, we need the paleo-depth of the sedimentary layers when they deposited. In this example, 300 outputs are recorded (**`nbout`**). We use a loop to read the output every ten timesteps (**`nstep`**). \n",
    "\n",
    "In addition, we also calculate the **shorleine trajectory**."
   ]
  },
  {
   "cell_type": "code",
   "execution_count": null,
   "metadata": {
    "collapsed": true
   },
   "outputs": [],
   "source": [
    "nbout = 300\n",
    "nstep = 10"
   ]
  },
  {
   "cell_type": "code",
   "execution_count": null,
   "metadata": {
    "collapsed": true
   },
   "outputs": [],
   "source": [
    "# folder = '/workspace/volume/GRL/rf3_sl0_ts1_dtn100/h5/'\n",
    "strat_all = {}\n",
    "strat_all[0] = strata.stratalSection(folder)\n",
    "strat_all[0].loadStratigraphy(1)\n",
    "k = 1\n",
    "for i in range(10,nbout+1,nstep):\n",
    "    strat_all[k] = strata.stratalSection(folder)\n",
    "    strat_all[k].loadStratigraphy(i) \n",
    "    k += 1"
   ]
  },
  {
   "cell_type": "markdown",
   "metadata": {},
   "source": [
    "## Build cross-section for each sedimentary layer"
   ]
  },
  {
   "cell_type": "code",
   "execution_count": null,
   "metadata": {
    "collapsed": true
   },
   "outputs": [],
   "source": [
    "npts = len(strat_all)\n",
    "for i in range(0,npts):\n",
    "    strat_all[i].buildSection(xo = x1, yo = y1, xm = x2, ym = y2, pts = nbpts, gfilter = gfilt)"
   ]
  },
  {
   "cell_type": "markdown",
   "metadata": {},
   "source": [
    "Shoreline position at a specific time is defined as the position whose elevation equals to the sea level at that time.\n",
    "\n",
    "We first read the sea level file, and extract the value of sea-level for each stratigraphic layer."
   ]
  },
  {
   "cell_type": "code",
   "execution_count": null,
   "metadata": {
    "collapsed": true
   },
   "outputs": [],
   "source": [
    "time, Sealevel = strata.readSea('/workspace/volume/GRL/data/sealevel.csv')\n",
    "Time = np.array(time[::10])\n",
    "sealevel = np.array(Sealevel[::10])\n",
    "sealevel[0] = Sealevel[1]\n",
    "timeStep = 1e5\n",
    "\n",
    "# View sea level curve\n",
    "strata.viewData(x0 = Time/timeStep, y0 = sealevel, width = 600, height = 400, linesize = 3, \n",
    "                color = '#6666FF',title='Sea-level curve',xlegend='display steps',ylegend='sea-level position')"
   ]
  },
  {
   "cell_type": "code",
   "execution_count": null,
   "metadata": {
    "collapsed": true
   },
   "outputs": [],
   "source": [
    "#help(strat.buildParameters)"
   ]
  },
  {
   "cell_type": "code",
   "execution_count": null,
   "metadata": {
    "collapsed": true
   },
   "outputs": [],
   "source": [
    "strat.buildParameters(npts,strat_all,sealevel)"
   ]
  },
  {
   "cell_type": "markdown",
   "metadata": {
    "collapsed": true
   },
   "source": [
    "## Build paleo-depositional environments structure."
   ]
  },
  {
   "cell_type": "code",
   "execution_count": null,
   "metadata": {
    "collapsed": true
   },
   "outputs": [],
   "source": [
    "# Specify the range of water depth (relative to sea level, positive = below sea level) of each depositional environment\n",
    "envIDs = [-20, 0, 30, 100, 300, 700]\n",
    "\n",
    "# Get the position of depositional environments on each extracted layer\n",
    "waterIDs = np.zeros((len(envIDs), npts),dtype=int)\n",
    "for i in range(0,npts):\n",
    "    waterIDs[:,i] = strata.depthID(cs = strat_all[i], sealevel = sealevel[i], envIDs = envIDs)\n",
    "    \n",
    "# Add the endpoint of deposition to the depositional environments extent\n",
    "envi = np.append(waterIDs, [strat.depoend], axis=0)"
   ]
  },
  {
   "cell_type": "code",
   "execution_count": null,
   "metadata": {
    "collapsed": true
   },
   "outputs": [],
   "source": [
    "# Plot the stratal stacking pattern\n",
    "fig = plt.figure(figsize = (7,3))\n",
    "plt.rc(\"font\", size=12)\n",
    "# \n",
    "ax = fig.add_subplot(111)\n",
    "layID = []\n",
    "p = 0\n",
    "color = ['limegreen','darkkhaki','sandybrown','khaki','c','teal']\n",
    "xi00 = strat.dist/1000  # change the unit to be be km\n",
    "dn=10\n",
    "for i in range(0,strat.nz+1,dn):\n",
    "    layID.append(i)\n",
    "    if len(layID) > 1:\n",
    "        for j in range(0,int(np.amax(xi00))):\n",
    "            if (j<waterIDs[0][i/dn]):\n",
    "                plt.fill_between([xi00[j],xi00[j+1]], [strat.secDep[layID[p-1]][j], strat.secDep[layID[p-1]][j+1]], color=color[0])\n",
    "            elif (j<waterIDs[1][i/dn]):\n",
    "                plt.fill_between([xi00[j],xi00[j+1]], [strat.secDep[layID[p-1]][j], strat.secDep[layID[p-1]][j+1]], color=color[0])\n",
    "            elif (j<waterIDs[2][i/dn]):\n",
    "                plt.fill_between([xi00[j],xi00[j+1]], [strat.secDep[layID[p-1]][j], strat.secDep[layID[p-1]][j+1]], color=color[1])\n",
    "            elif (j<waterIDs[3][i/dn]):\n",
    "                plt.fill_between([xi00[j],xi00[j+1]], [strat.secDep[layID[p-1]][j], strat.secDep[layID[p-1]][j+1]], color=color[2])\n",
    "            elif (j<waterIDs[4][i/dn]):\n",
    "                plt.fill_between([xi00[j],xi00[j+1]], [strat.secDep[layID[p-1]][j], strat.secDep[layID[p-1]][j+1]], color=color[3])\n",
    "            elif (j<waterIDs[5][i/dn]):\n",
    "                plt.fill_between([xi00[j],xi00[j+1]], [strat.secDep[layID[p-1]][j], strat.secDep[layID[p-1]][j+1]], color=color[4])\n",
    "            else:\n",
    "                plt.fill_between([xi00[j],xi00[j+1]], [strat.secDep[layID[p-1]][j], strat.secDep[layID[p-1]][j+1]], color=color[5])\n",
    "                plt.fill_between(xi00, strat.secDep[layID[p]], 0, color='white')\n",
    "    p=p+1\n",
    "    plt.plot(xi00,strat.secDep[i],'-',color='k',linewidth=0.3)\n",
    "#     \n",
    "plt.fill_between(xi00, strat.secDep[strat.nz-1], 0, color='white')\n",
    "plt.plot(xi00,strat.secDep[strat.nz-1],'-',color='k',linewidth=1)\n",
    "\n",
    "plt.plot(xi00,strat.secDep[0],'-',color='k',linewidth=1)\n",
    "plt.ylabel('Elevation (m)',fontsize=12)\n",
    "plt.xlabel('Distance (km)',fontsize=12)\n",
    "plt.xlim( 300, 100) \n",
    "plt.ylim( -1200, 0 )\n",
    "ax.xaxis.set_ticks_position('bottom')\n",
    "ax.yaxis.set_ticks_position('left')\n",
    "# \n",
    "# fig.savefig(\"/workspace/volume/GRL/figures/stratStacking.png\", dpi=400)"
   ]
  },
  {
   "cell_type": "markdown",
   "metadata": {},
   "source": [
    "# Wheeler Diagram\n",
    "\n",
    "Wheeler diagram (or chronostratigraphic chart) is a powerful tool to document unconformities between sequences, and to understand the stacking patterns of sedimentary successions and their relationship to sea level. It displays the horizontal distribution of contemporaneous sedimentary layer sequences, as well as hiatuses in sedimentation. "
   ]
  },
  {
   "cell_type": "code",
   "execution_count": null,
   "metadata": {
    "collapsed": true
   },
   "outputs": [],
   "source": [
    "timeMA = [x/1e6 for x in Time] # change the unit to be Myr"
   ]
  },
  {
   "cell_type": "code",
   "execution_count": null,
   "metadata": {
    "collapsed": true
   },
   "outputs": [],
   "source": [
    "fig = plt.figure(figsize = (7,3))\n",
    "plt.rc(\"font\", size=12)\n",
    "# \n",
    "ax = fig.add_subplot(111)\n",
    "colors = ['limegreen','darkkhaki','sandybrown','khaki','c','teal','white']\n",
    "patch_handles = []\n",
    "for i, d in enumerate(envi):\n",
    "    patch_handles.append(plt.barh(timeMA,d,color=colors[i],align='edge',left=d, height=1., edgecolor = \"none\"))\n",
    "for j in range(0,npts): \n",
    "    plt.axhline(timeMA[j], color='k', linewidth=0.3)\n",
    "plt.plot(strat.shoreID, timeMA,'ko',markersize=3)\n",
    "#\n",
    "plt.xlim([300, 100])\n",
    "plt.ylim([-0.4,31])\n",
    "plt.xlabel('Distance (km)',fontsize=12)\n",
    "plt.xticks(fontsize=12)\n",
    "plt.ylabel('Time (Myr)',fontsize=12)\n",
    "plt.yticks(fontsize=12)\n",
    "# \n",
    "# fig.savefig(\"/workspace/volume/GRL/figures/WheelerDiagram.png\", dpi=400)"
   ]
  },
  {
   "cell_type": "code",
   "execution_count": null,
   "metadata": {
    "collapsed": true
   },
   "outputs": [],
   "source": []
  }
 ],
 "metadata": {
  "anaconda-cloud": {},
  "kernelspec": {
   "display_name": "Python 2",
   "language": "python",
   "name": "python2"
  },
  "language_info": {
   "codemirror_mode": {
    "name": "ipython",
    "version": 2
   },
   "file_extension": ".py",
   "mimetype": "text/x-python",
   "name": "python",
   "nbconvert_exporter": "python",
   "pygments_lexer": "ipython2",
   "version": "2.7.6"
  }
 },
 "nbformat": 4,
 "nbformat_minor": 1
}
