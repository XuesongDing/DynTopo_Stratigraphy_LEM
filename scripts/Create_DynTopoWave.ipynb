{
 "cells": [
  {
   "cell_type": "markdown",
   "metadata": {},
   "source": [
    "## This notebook creates the tectonic inputs of the testing cases. \n",
    "\n",
    "### In all testing cases, the only tectonic forcing is the migrating dynamic topography wave."
   ]
  },
  {
   "cell_type": "code",
   "execution_count": null,
   "metadata": {},
   "outputs": [],
   "source": [
    "import numpy as np\n",
    "import pandas as pd\n",
    "from matplotlib import cm\n",
    "import matplotlib.mlab as ml\n",
    "import matplotlib.pyplot as plt\n",
    "\n",
    "%matplotlib inline"
   ]
  },
  {
   "cell_type": "markdown",
   "metadata": {},
   "source": [
    "## Creating a dynamic topography wave \n",
    "\n",
    "$$ z(x) = z_0 e^{-(x-\\nu t)^2/\\lambda^2} $$\n",
    "\n",
    "- $\\nu$ wave velocity\n",
    "- $2\\lambda$ wavelength\n",
    "- $t$ time\n",
    "- $z_0$ maximum amplitude"
   ]
  },
  {
   "cell_type": "code",
   "execution_count": null,
   "metadata": {},
   "outputs": [],
   "source": [
    "# Parameter of dynamic topography (DT)\n",
    "v = 0.05  # velocity of DT (m/yr)\n",
    "l = 500000.  # wavelength (m)\n",
    "zo = 300.  # amplitude (m)\n",
    "# \n",
    "xr_DT = np.linspace(-500000., 500000., 1001)\n",
    "l1 = 400000.\n",
    "DT1 = zo*np.exp(-np.pi*(xr_DT)*(xr_DT)/l1/l1)\n",
    "DT = DT1 - DT1[0]\n",
    "plt.plot(xr_DT,DT1,xr_DT,DT)"
   ]
  },
  {
   "cell_type": "markdown",
   "metadata": {},
   "source": [
    "### Model geometry"
   ]
  },
  {
   "cell_type": "code",
   "execution_count": null,
   "metadata": {},
   "outputs": [],
   "source": [
    "# Number of nodes along X-Y axis\n",
    "nx = 701  \n",
    "ny = 701  \n",
    "xr = np.linspace(0., 700000., nx)\n",
    "yr = np.linspace(0., 700000., ny)\n",
    "\n",
    "# Space resolution along X-Y axis\n",
    "dx = xr[1] - xr[0]  \n",
    "dy = yr[1] - yr[0]  \n",
    "\n",
    "# Time array\n",
    "endTime = 34000000 #  Dynamic topogrpahy passes the domain in 34 My\n",
    "dispTimeStep = dx*5/v  # every DT move travels 5 dx\n",
    "stepNb = int(endTime/dispTimeStep)\n",
    "dispTimeStep, stepNb"
   ]
  },
  {
   "cell_type": "markdown",
   "metadata": {},
   "source": [
    "### Export data"
   ]
  },
  {
   "cell_type": "code",
   "execution_count": null,
   "metadata": {},
   "outputs": [],
   "source": [
    "z = np.zeros((ny,nx))\n",
    "for k in range(0,stepNb):\n",
    "    f = open(\"disp\"+str(k)+\".csv\", \"w\")\n",
    "    t = (k+1)*dispTimeStep\n",
    "\n",
    "    disp = np.zeros((ny,nx))\n",
    "    zn = np.zeros((ny,nx))\n",
    "    beta = np.zeros((nx,ny))\n",
    "    r = np.zeros((nx,ny))\n",
    "\n",
    "    posit = int(t*v/dx)\n",
    "    lenDT = int(DT.shape[0]-1)\n",
    "    if (posit<=700):\n",
    "        for j in range(ny):\n",
    "            for i in range(0,posit,1):\n",
    "                zn[j,i] = DT[(lenDT-posit+1)+i]\n",
    "                disp[j,i] = zn[j,i] - z[j,i]\n",
    "    elif (posit<=int(nx)):\n",
    "        posit_pass = posit - int(l/dx)\n",
    "        for j in range(ny):\n",
    "            for i in range(posit_pass,posit,1):\n",
    "                zn[j,i] = DT[i-posit_pass]\n",
    "                disp[j,i] = zn[j,i] - z[j,i]\n",
    "    else:\n",
    "        posit_pass = posit - 700\n",
    "        for j in range(ny):\n",
    "            for i in range(posit_pass,nx,1):\n",
    "                zn[j,i] = DT[i-posit_pass]\n",
    "                disp[j,i] = zn[j,i] - z[j,i]\n",
    "    z = np.copy(zn)\n",
    "\n",
    "    for j in range(0,ny):\n",
    "        for i in range(0,nx):\n",
    "            f.write( str(disp[j][i]) + \"\\n\"  )\n",
    "    f.close()"
   ]
  },
  {
   "cell_type": "markdown",
   "metadata": {},
   "source": [
    "### XML input"
   ]
  },
  {
   "cell_type": "code",
   "execution_count": null,
   "metadata": {},
   "outputs": [],
   "source": [
    "endTime = 34000000\n",
    "dispTimeStep = 100000\n",
    "stepNb = int(endTime/dispTimeStep)\n",
    "for k in range(0,stepNb):\n",
    "    print(\"<disp>\")\n",
    "    print(\"   <dstart>\"+str(k*dispTimeStep)+\"</dstart>\")\n",
    "    print(\"   <dend>\"+str((k+1)*dispTimeStep)+\"</dend>\")\n",
    "    print(\"   <dfile>data/dtp300_1000k_v5_ts0/disp\"+str(k)+\".csv</dfile>\")\n",
    "    print(\"</disp>\")"
   ]
  },
  {
   "cell_type": "code",
   "execution_count": null,
   "metadata": {},
   "outputs": [],
   "source": []
  }
 ],
 "metadata": {
  "kernelspec": {
   "display_name": "Python 2",
   "language": "python",
   "name": "python2"
  },
  "language_info": {
   "codemirror_mode": {
    "name": "ipython",
    "version": 2
   },
   "file_extension": ".py",
   "mimetype": "text/x-python",
   "name": "python",
   "nbconvert_exporter": "python",
   "pygments_lexer": "ipython2",
   "version": "2.7.12"
  }
 },
 "nbformat": 4,
 "nbformat_minor": 2
}
