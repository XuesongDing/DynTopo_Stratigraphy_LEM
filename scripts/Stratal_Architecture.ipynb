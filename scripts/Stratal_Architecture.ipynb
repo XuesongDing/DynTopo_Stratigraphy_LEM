{
 "cells": [
  {
   "cell_type": "markdown",
   "metadata": {},
   "source": [
    "# Analyse pyBadlands stratigraphic output\n",
    "\n",
    "If the stratigraphic structure is turned on in the input.xml file, **pyBadlands** produces sedimentary layers recorded by hdf5 files. The stratigraphic layers are defined on a regularly spaced grid and a layer is recorded at each layer time interval given by the user.\n",
    "\n",
    "Here we show how we can visualise quickly the structure of the stratigraphic layer in an IPython notebook."
   ]
  },
  {
   "cell_type": "code",
   "execution_count": null,
   "metadata": {},
   "outputs": [],
   "source": [
    "import numpy as np\n",
    "import cmocean as cmo\n",
    "import matplotlib as mpl\n",
    "from matplotlib import mlab, cm\n",
    "import matplotlib.mlab as ml\n",
    "import matplotlib.pyplot as plt\n",
    "import matplotlib.colors\n",
    "import matplotlib.colors as colors\n",
    "\n",
    "# Import the python file (.py) which contains all defined functions\n",
    "import stratalArchitecture as strata\n",
    "\n",
    "# Display plots in SVG format\n",
    "%config InlineBackend.figure_format = 'svg'\n",
    "\n",
    "# Display plots in cells\n",
    "%matplotlib inline"
   ]
  },
  {
   "cell_type": "markdown",
   "metadata": {},
   "source": [
    "# 1-  Visualize stratigraphic layers on a cross-section\n",
    "\n",
    "## 1.1- Loading the stratigraphic file\n",
    "\n",
    "First we need to load the stratigraphic files. The files are located in the **h5/** folder in the simulation main output folder and are named using the following convention:\n",
    "- `sed.time`T`.p`X`.hdf5`\n",
    "\n",
    "with T the display time index and X the number of the partition (used in the parallel version). In cases where you ran your simulation in parallel you will also need to give the number of CPUs used (_cpus_).\n",
    "\n",
    "To load a file you will need to give the folder path and the number of processors used in your simulation."
   ]
  },
  {
   "cell_type": "code",
   "execution_count": null,
   "metadata": {},
   "outputs": [],
   "source": [
    "# For more information regarding the function uncomment the following line.\n",
    "# help(strata.stratalSection.__init__)"
   ]
  },
  {
   "cell_type": "code",
   "execution_count": null,
   "metadata": {},
   "outputs": [],
   "source": [
    "folder = '/workspace/volume/case1/output/h5/'  # output folder path\n",
    "strat = strata.stratalSection(folder, 1)"
   ]
  },
  {
   "cell_type": "markdown",
   "metadata": {},
   "source": [
    "Then we need to load a particular output time interval (this is the T parameter in the hdf5 file name convention).\n",
    "\n",
    "**Note**\n",
    "\n",
    "This number is not always the number of sedimentary layers for this particular time step as you could have chosen in the input file to have more than 1 sedimentary layer recorded by output interval!"
   ]
  },
  {
   "cell_type": "code",
   "execution_count": null,
   "metadata": {},
   "outputs": [],
   "source": [
    "# help(strat.loadStratigraphy)\n",
    "# help(strat.loadTIN)"
   ]
  },
  {
   "cell_type": "code",
   "execution_count": null,
   "metadata": {},
   "outputs": [],
   "source": [
    "timestep = 120  \n",
    "strat.loadStratigraphy(timestep)  # load strata files\n",
    "strat.loadTIN(timestep)  # load TIN files"
   ]
  },
  {
   "cell_type": "markdown",
   "metadata": {},
   "source": [
    "**Important** \n",
    "\n",
    "If you want to change the timestep, you need to restart this script (in the top menu, Kernel->Restart) and run from the first cell."
   ]
  },
  {
   "cell_type": "markdown",
   "metadata": {},
   "source": [
    "## 1.2- Building a cross-section\n",
    "\n",
    "To build a cross-section to visualise the stratigraphic layers, you will need to provide:\n",
    "\n",
    "+ the coordinates of two points deliminating the cross-section **_(x1,y1)_** and **_(x2,y2)_**, \n",
    "+ the number of nodes that defines the resolution of this cross-section **_nbpts_** and\n",
    "+ a gaussian filter value to smooth the the stratigraphic layer (**_gfilt_** a value of 0 can be used for non-smoothing).\n",
    "\n",
    "Plotting the topography map from the model output can help you to define the location of the cross-section."
   ]
  },
  {
   "cell_type": "code",
   "execution_count": null,
   "metadata": {},
   "outputs": [],
   "source": [
    "# help(strat.plotSectionMap)"
   ]
  },
  {
   "cell_type": "code",
   "execution_count": null,
   "metadata": {},
   "outputs": [],
   "source": [
    "strat.plotSectionMap(title='Topography map', xlegend='Distance (m)', ylegend='Distance (m)', \n",
    "                     color=cmo.cm.delta, crange=[-2000,2000], cs=None, size=(6,6))"
   ]
  },
  {
   "cell_type": "code",
   "execution_count": null,
   "metadata": {},
   "outputs": [],
   "source": [
    "# Coordinates [x,y] of two points on the cross-section\n",
    "cs=np.zeros((2,2))\n",
    "cs[0,:] = [350000,350000]  # point 1\n",
    "cs[1,:] = [350000,700000]  # point 2\n",
    "\n",
    "# Interpolation parameters\n",
    "nbpts = 700  \n",
    "gfilt = 2  \n",
    "\n",
    "# Show the location of the cross-section on the topography map\n",
    "strat.plotSectionMap(title='Topography map', xlegend='Distance (m)', ylegend='Distance (m)',\n",
    "                     color=cmo.cm.delta, colorcs='magenta', crange=[-2000,2000], cs=cs, size=(6,6))"
   ]
  },
  {
   "cell_type": "code",
   "execution_count": null,
   "metadata": {},
   "outputs": [],
   "source": [
    "# Build cross-section\n",
    "strat.buildSection(xo = cs[0,0], yo = cs[0,1], xm = cs[1,0], ym = cs[1,1], pts = nbpts, gfilter = gfilt)"
   ]
  },
  {
   "cell_type": "markdown",
   "metadata": {},
   "source": [
    "## 1.3- Visualize stratal stacking pattern coloured by time\n",
    "\n",
    "First, we use **plotly** to visualise the vertival cross-section of stratal stacking pattern."
   ]
  },
  {
   "cell_type": "code",
   "execution_count": null,
   "metadata": {
    "scrolled": false
   },
   "outputs": [],
   "source": [
    "strata.viewSection(width = 800, height = 500, cs = strat, \n",
    "            dnlay = 2, rangeX=[2000, 10000], rangeY=[-400,200],\n",
    "            linesize = 0.5, title='Stratal stacking pattern coloured by time')"
   ]
  },
  {
   "cell_type": "markdown",
   "metadata": {},
   "source": [
    "## 1.4- Visualize stratal stacking pattern coloured by facies\n",
    "\n",
    "First we build paleo-depositional environment (facies) structure based on the paleo-water depth. For example ([reference](https://opentextbc.ca/geology/chapter/6-3-depositional-environments-and-sedimentary-basins/)),\n",
    "\n",
    "<img src=\"../images/depo-envi.png\" alt=\"depositional environments\" width=\"800\" height=\"500\"/>"
   ]
  },
  {
   "cell_type": "code",
   "execution_count": null,
   "metadata": {},
   "outputs": [],
   "source": [
    "def buildEnviID_facies(cs = None, depthIDs = None):\n",
    "    envi = np.zeros((cs.nz, len(depthIDs)+2))\n",
    "    \n",
    "    for i in range(cs.nz):\n",
    "        envi[i][0] = np.amax(np.where(cs.secElev[i] > 50)) # onlap\n",
    "        for j in range(len(depthIDs)):\n",
    "            envi[i][j+1] = np.amax(np.where((cs.secElev[i]) >= depthIDs[j])[0])\n",
    "        envi[i][len(depthIDs)+1] = np.amax(np.where((cs.secTh[i]) >= 0.01)[0]) # downlap\n",
    "    #\n",
    "    return envi"
   ]
  },
  {
   "cell_type": "code",
   "execution_count": null,
   "metadata": {},
   "outputs": [],
   "source": [
    "# Specify the range of water depth for the depositional environments, see the table above\n",
    "depthID = [0, -30, -100, -300, -500]\n",
    "\n",
    "# Build an array of depositional environment ID (enviID)\n",
    "enviID = np.zeros((strat.nz, len(depthID)+2))\n",
    "enviID = buildEnviID_facies(cs = strat, depthIDs = depthID)"
   ]
  },
  {
   "cell_type": "code",
   "execution_count": null,
   "metadata": {},
   "outputs": [],
   "source": [
    "# Plot stratal stacking pattern colored by paleo-depositional environments\n",
    "fig = plt.figure(figsize = (7,7))\n",
    "plt.rc(\"font\", size=12)\n",
    "# \n",
    "ax = fig.add_axes([0.11, 0.57, 0.85, 0.4])\n",
    "p = 0\n",
    "layID = []\n",
    "xi00 = np.array(strat.dist)/1000.  # change the unit to be be km\n",
    "colors = ['limegreen','darkkhaki','sandybrown','khaki','c','teal']\n",
    "for i in range(0,strat.nz+1,3):\n",
    "    if i == strat.nz:\n",
    "        i=strat.nz-1\n",
    "    layID.append(i)\n",
    "    ax.plot(xi00,strat.secDep[layID[p]],'-',color='k',linewidth=0.1)\n",
    "    if len(layID)>1:\n",
    "        for j in range(len(depthID)+1):\n",
    "            ID1=enviID[i][j]\n",
    "            ID2=enviID[i][j+1]\n",
    "            for k in range(int(ID1),int(ID2)):\n",
    "                ax.fill_between([xi00[k],xi00[k+1]], [strat.secDep[layID[p-1]][k], strat.secDep[layID[p-1]][k+1]],\n",
    "                                max(strat.secDep[layID[p-1]]), color=colors[j])\n",
    "    if (max(strat.secDep[layID[p]]) <= max(strat.secDep[layID[p-1]])):\n",
    "        plt.fill_between(xi00, strat.secDep[layID[p]], max(strat.secDep[layID[p-1]]), color='white')\n",
    "    else:\n",
    "        plt.fill_between(xi00, strat.secDep[layID[p]], max(strat.secDep[layID[p]]), color='white')\n",
    "    p=p+1\n",
    "#     \n",
    "ax.plot(xi00,strat.secDep[strat.nz-1],'-',color='k',linewidth=0.3)  # top line\n",
    "ax.plot(xi00,strat.secDep[0],'-',color='k',linewidth=0.3)  # bottom line\n",
    "# ax.set_xlim([340, 200])\n",
    "# ax.set_ylim([-1000, 350])\n",
    "plt.xlabel('Distance (km)',fontsize=12)\n",
    "plt.ylabel('Elevation (m)',fontsize=12)\n",
    "\n",
    "# Save the plot\n",
    "# fig.savefig(\"Strata.jpg\", dpi=300)"
   ]
  },
  {
   "cell_type": "markdown",
   "metadata": {},
   "source": [
    "# 2-  Build a Wheeler diagram\n",
    "\n",
    "Wheeler diagram (or chronostratigraphic chart) is a powerful tool to document unconformities between sequences, and to understand the evolution of sedimentary stacking patterns and their relationships to sea level. It displays the horizontal distribution of contemporaneous sedimentary layer sequences, as well as hiatuses in sedimentation."
   ]
  },
  {
   "cell_type": "code",
   "execution_count": null,
   "metadata": {},
   "outputs": [],
   "source": [
    "def buildEnviID_WD(cs = None, depthID = None):\n",
    "    enviID = np.zeros((cs.nz, len(cs.dist)))\n",
    "    \n",
    "    # Build a 2D array of the depositional environment ID (enviID) \n",
    "    for j in range(cs.nz):\n",
    "        for i in range(len(cs.dist)):\n",
    "            if (cs.secElev[j][i]) > (depthID[0]):\n",
    "                enviID[j][i] = 0\n",
    "            elif (cs.secElev[j][i]) > (depthID[1]):\n",
    "                enviID[j][i] = 1\n",
    "            elif (cs.secElev[j][i]) > (depthID[2]):\n",
    "                enviID[j][i] = 2\n",
    "            elif (cs.secElev[j][i]) > (depthID[3]):\n",
    "                enviID[j][i] = 3\n",
    "            elif (cs.secElev[j][i]) > (depthID[4]):\n",
    "                enviID[j][i] = 4\n",
    "            else:\n",
    "                enviID[j][i] = 5\n",
    "    \n",
    "    # Where the deposited thickness is less than 0.5 m, the enviID will be set to -1 (i.e. will be coloured in white).\n",
    "    # You can change the value of '0.5'.\n",
    "    for j in range(cs.nz):\n",
    "        for i in range(len(cs.dist)):\n",
    "            if (cs.secTh[j][i]) <= 0.5:\n",
    "                enviID[j][i] = -1\n",
    "    \n",
    "    return enviID"
   ]
  },
  {
   "cell_type": "code",
   "execution_count": null,
   "metadata": {},
   "outputs": [],
   "source": [
    "# Define colors for depositional environments, with number of colors equals to len(depthID) + 2\n",
    "colorDepoenvi = ['white','limegreen','darkkhaki','sandybrown','khaki','c','teal'] \n",
    "# 'White' colors where either no deposition or deposited sediemnt thickness < 0.5 m.\n",
    "\n",
    "# Build an array of depositional environment ID (enviID_WD)\n",
    "enviID_WD = np.zeros((strat.nz, len(strat.dist)))\n",
    "enviID_WD = buildEnviID_WD(cs = strat, depthID = depthID)\n",
    "\n",
    "# Time structure of the model, corresponding to the Time structure in the input.xml file\n",
    "start_time = 0.  # the start time of the model run [a]\n",
    "disptime = 100000.  # the layer interval of the strata module [a]\n",
    "end_time = start_time + disptime * timestep  # the time of the loaded output [a]\n",
    "layertime = np.linspace(start_time,end_time,strat.nz)  # time of the layers"
   ]
  },
  {
   "cell_type": "code",
   "execution_count": null,
   "metadata": {},
   "outputs": [],
   "source": [
    "# Plot Wheeler diagram\n",
    "fig = plt.figure(figsize = (7,4))\n",
    "plt.rc(\"font\", size=13)\n",
    "    \n",
    "ax = fig.add_axes([0.15, 0.18, 0.74, 0.76])\n",
    "# Define the meshgrid of the Wheeler diagram, in which X axis is distance along the cross-section and Y axis is time\n",
    "dist = strat.dist  \n",
    "Dist, Time = np.meshgrid(dist, layertime)\n",
    "\n",
    "cmap = colors.ListedColormap(colorDepoenvi)\n",
    "boundaries = [-1, 6]\n",
    "levels=[-1.5,-0.5,0.5, 1.5, 2.5, 3.5, 4.5, 5.5]\n",
    "norm = colors.Normalize(boundaries, cmap.N)\n",
    "plt.imshow(enviID_WD[:,:], interpolation='nearest', cmap=cmap, origin='lower', \n",
    "           extent=[dist.min()/1000, dist.max()/1000, layertime.min()/1e6, layertime.max()/1e6], \n",
    "           aspect='auto', vmax=5.5, vmin=-1.5)\n",
    "# plt.colorbar()\n",
    "\n",
    "# Plot the horizontal time lines with the same interval with the stratal stacking pattern\n",
    "for i in range(0,strat.nz,3): \n",
    "    plt.axhline(layertime[i]/1e6, color='k', linewidth=0.2)\n",
    "\n",
    "plt.xlabel('Distance (km)')\n",
    "plt.ylabel('Time (Myr)')\n",
    "# \n",
    "# fig.savefig(\"WheeDiag.jpg\", dpi=300)"
   ]
  },
  {
   "cell_type": "markdown",
   "metadata": {},
   "source": [
    "# 3-  Extract synthetic cores\n",
    "\n",
    "To plot the synthetic cores (vertical stacking patterns) at any locations on the cross-section, you need to give the location of the core."
   ]
  },
  {
   "cell_type": "code",
   "execution_count": null,
   "metadata": {},
   "outputs": [],
   "source": [
    "# Location of the core on the cross-section (m)\n",
    "posit = 150000\n",
    "\n",
    "# Plot the core\n",
    "strata.viewCore(width = 2, height = 5, cs = strat, enviID = enviID, posit = posit, time = layertime, \n",
    "                color = colorDepoenvi, rangeX = None, rangeY = None, savefig = 'Yes', figname = 'delta_core')"
   ]
  },
  {
   "cell_type": "code",
   "execution_count": null,
   "metadata": {},
   "outputs": [],
   "source": []
  }
 ],
 "metadata": {
  "anaconda-cloud": {},
  "kernelspec": {
   "display_name": "Python 2",
   "language": "python",
   "name": "python2"
  },
  "language_info": {
   "codemirror_mode": {
    "name": "ipython",
    "version": 2
   },
   "file_extension": ".py",
   "mimetype": "text/x-python",
   "name": "python",
   "nbconvert_exporter": "python",
   "pygments_lexer": "ipython2",
   "version": "2.7.12"
  }
 },
 "nbformat": 4,
 "nbformat_minor": 1
}
